{
 "cells": [
  {
   "attachments": {},
   "cell_type": "markdown",
   "metadata": {},
   "source": [
    "# Extract the adjacency matrix\n",
    "This script is necessary to extract the adjacency matrix of the unstructured grid of a vtk file."
   ]
  },
  {
   "cell_type": "code",
   "execution_count": null,
   "metadata": {},
   "outputs": [],
   "source": [
    "import vtk\n",
    "from vtk.util.numpy_support import vtk_to_numpy\n",
    "from scipy import sparse"
   ]
  },
  {
   "attachments": {},
   "cell_type": "markdown",
   "metadata": {},
   "source": [
    "## Loading\n",
    "The next cell loads an unstructured grid using vtk and stores it in the variable `assembly`"
   ]
  },
  {
   "cell_type": "code",
   "execution_count": null,
   "metadata": {},
   "outputs": [],
   "source": [
    "reader = vtk.vtkXMLUnstructuredGridReader()\n",
    "reader.SetFileName('../Variationsanalyse/data/sto_2//run__00001/m_1/vtk_Export/Assembly/Assembly_6.vtu')\n",
    "reader.Update()\n",
    "assembly = reader.GetOutput()"
   ]
  },
  {
   "attachments": {},
   "cell_type": "markdown",
   "metadata": {},
   "source": [
    "## Size estimation\n",
    "Next, we need to know how many points this assembly contains to define a sparse matrix with that size."
   ]
  },
  {
   "cell_type": "code",
   "execution_count": null,
   "metadata": {},
   "outputs": [],
   "source": [
    "points_vtk = assembly.GetPoints().GetData()\n",
    "points = vtk_to_numpy(points_vtk)\n",
    "print(points.shape)"
   ]
  },
  {
   "attachments": {},
   "cell_type": "markdown",
   "metadata": {},
   "source": [
    "## Adjacency matrix creation\n",
    "We can now create the adjacency matrix. For that, we iterate all cells to get their lines. For each line, we mark the connection of both points in the adjacency matrix. Please note, the adjacency matrix is symmetric, thus we could omit the last assignment to reduce the file size. But for the computation of the Fourier basis, a bidirectional (symmetric) adjacency matrix is necessary. We enforce the matrix to contain floats to allow an easy computation for the Fourier basis. Otherwise, we need to cast to a floating point type after we read the matrix back in the next script."
   ]
  },
  {
   "cell_type": "code",
   "execution_count": null,
   "metadata": {},
   "outputs": [],
   "source": [
    "A_sparse = sparse.lil_matrix((points.shape[0], points.shape[0]), dtype='f')\n",
    "numCells = assembly.GetNumberOfCells()\n",
    "for idx in range(numCells):\n",
    "    cell = assembly.GetCell(idx)\n",
    "    numLines = cell.GetNumberOfEdges()\n",
    "    for idx in range(numLines):\n",
    "        line = cell.GetEdge(idx)\n",
    "        p1 = line.GetPointId(0)\n",
    "        p2 = line.GetPointId(1)\n",
    "        A_sparse[p1, p2] = 1\n",
    "        A_sparse[p2, p1] = 1\n"
   ]
  },
  {
   "attachments": {},
   "cell_type": "markdown",
   "metadata": {},
   "source": [
    "## Storing"
   ]
  },
  {
   "cell_type": "code",
   "execution_count": null,
   "metadata": {},
   "outputs": [],
   "source": [
    "sparse.save_npz('../Variationsanalyse/data/sto_2//adjacencyList.npz', A_sparse.tocsc())\n"
   ]
  },
  {
   "cell_type": "code",
   "execution_count": null,
   "metadata": {},
   "outputs": [],
   "source": []
  }
 ],
 "metadata": {
  "kernelspec": {
   "display_name": "ai",
   "language": "python",
   "name": "python3"
  },
  "language_info": {
   "codemirror_mode": {
    "name": "ipython",
    "version": 3
   },
   "file_extension": ".py",
   "mimetype": "text/x-python",
   "name": "python",
   "nbconvert_exporter": "python",
   "pygments_lexer": "ipython3",
   "version": "3.10.9"
  },
  "vscode": {
   "interpreter": {
    "hash": "5ff2ab2773798b297bda1d08112a53837ac3448f63b94ca87abeec7448d50248"
   }
  }
 },
 "nbformat": 4,
 "nbformat_minor": 2
}
