{
 "cells": [
  {
   "cell_type": "code",
   "execution_count": null,
   "metadata": {},
   "outputs": [],
   "source": [
    "import vtk\n",
    "from vtk.util.numpy_support import numpy_to_vtk\n",
    "import numpy as np\n",
    "from IPython.display import Image\n",
    "import IPython.display as display\n",
    "from matplotlib import pyplot as plt\n",
    "import pandas as pd\n",
    "import notebookrender\n",
    "import ipywidgets"
   ]
  },
  {
   "cell_type": "markdown",
   "metadata": {},
   "source": [
    "## Load the Fourier basis"
   ]
  },
  {
   "cell_type": "code",
   "execution_count": null,
   "metadata": {},
   "outputs": [],
   "source": [
    "U = np.loadtxt('U-30.csv', dtype=np.complex128)\n",
    "\n",
    "plt.figure(figsize=(18,6))\n",
    "plt.plot(np.real(U[:,1]))\n",
    "plt.show()"
   ]
  },
  {
   "cell_type": "markdown",
   "metadata": {},
   "source": [
    "## Load a sample data set"
   ]
  },
  {
   "cell_type": "code",
   "execution_count": null,
   "metadata": {},
   "outputs": [],
   "source": [
    "path = '../Variationsanalyse/data/sto_2/run__{:05d}/m_1/vtk_Export/Assembly/Assembly_6.vtu'\n",
    "reader = vtk.vtkXMLUnstructuredGridReader()\n",
    "reader.SetFileName(path.format(1))\n",
    "reader.Update()\n",
    "data = reader.GetOutput()"
   ]
  },
  {
   "cell_type": "markdown",
   "metadata": {},
   "source": [
    "## Display the first 10 Fourier basis"
   ]
  },
  {
   "cell_type": "code",
   "execution_count": null,
   "metadata": {},
   "outputs": [],
   "source": [
    "for i in range(0,10):\n",
    "    U_res = numpy_to_vtk(np.real(U)[:,i])\n",
    "    U_res.SetName('U_res')\n",
    "    data.GetPointData().AddArray(U_res)\n",
    "    re = notebookrender.rendering(\n",
    "        data, \n",
    "        width=800, \n",
    "        height=600, \n",
    "        pos=[200.0, 0.0, 4500.0], \n",
    "        foc=[200.0, 0.0, 1000.0], \n",
    "        zoom=1.3, \n",
    "        scalarRange=U_res.GetRange(),\n",
    "        colorBarCoordinate=(0.7,0.1)\n",
    "    )\n",
    "    data.GetPointData().RemoveArray('U_res')\n",
    "\n",
    "    display.display(\n",
    "        ipywidgets.HBox([\n",
    "            ipywidgets.Text(str(i), disabled=True),\n",
    "            re\n",
    "        ], layout=ipywidgets.Layout(height='300px'))\n",
    "    )"
   ]
  },
  {
   "cell_type": "markdown",
   "metadata": {},
   "source": [
    "## Load the training data set"
   ]
  },
  {
   "cell_type": "code",
   "execution_count": null,
   "metadata": {},
   "outputs": [],
   "source": [
    "loadPath = '../Variationsanalyse/data/sto_2/run__0{:04d}/m_1/assembly_6.csv'\n",
    "numberOfTests = 793\n",
    "n = 188559\n",
    "df = np.zeros((numberOfTests, n, 3), dtype=np.float32)\n",
    "for testId in range(0, numberOfTests):\n",
    "    df_temp = pd.read_csv(loadPath.format(testId+1), sep=' ', header=0, dtype=np.float32)\n",
    "    df[testId,:] = np.reshape(df_temp, (-1,3))\n",
    "    \n",
    "print(df.shape)"
   ]
  },
  {
   "cell_type": "markdown",
   "metadata": {},
   "source": [
    "## Spectrum computation"
   ]
  },
  {
   "cell_type": "code",
   "execution_count": null,
   "metadata": {},
   "outputs": [],
   "source": [
    "S = np.real(U.transpose()) @ df\n",
    "print(S.shape)"
   ]
  },
  {
   "cell_type": "markdown",
   "metadata": {},
   "source": [
    "## Boxplots for the spectrum of all parts"
   ]
  },
  {
   "cell_type": "code",
   "execution_count": null,
   "metadata": {},
   "outputs": [],
   "source": [
    "plt.figure(figsize=(18,10))\n",
    "ax1 = plt.subplot(3,1,1)\n",
    "plt.boxplot(np.real(S[...,0]))\n",
    "plt.setp(ax1.get_xticklabels(), visible=False)\n",
    "plt.ylabel('X')\n",
    "plt.grid()\n",
    "\n",
    "ax2 = plt.subplot(3,1,2)\n",
    "plt.boxplot(np.real(S[...,1]))\n",
    "plt.setp(ax2.get_xticklabels(), visible=False)\n",
    "plt.ylabel('Y')\n",
    "plt.grid()\n",
    "\n",
    "ax3 = plt.subplot(3,1,3)\n",
    "plt.boxplot(np.real(S[...,2]))\n",
    "plt.xlabel(r'$\\omega$')\n",
    "plt.ylabel('Z')\n",
    "plt.grid()\n",
    "\n",
    "plt.subplots_adjust(hspace=0.05)\n",
    "plt.show()"
   ]
  },
  {
   "cell_type": "markdown",
   "metadata": {},
   "source": [
    "## Variance of all spectri"
   ]
  },
  {
   "cell_type": "code",
   "execution_count": null,
   "metadata": {},
   "outputs": [],
   "source": [
    "S_std = np.std(np.real(S), axis=0)\n",
    "x = np.arange(30)\n",
    "width = 0.25\n",
    "\n",
    "plt.figure(figsize=(18,6))\n",
    "ax = plt.gca()\n",
    "ax.bar( x-width, S_std[:30,0], width, label='X' )\n",
    "ax.bar( x, S_std[:30,1], width, label='Y' )\n",
    "ax.bar( x+width, S_std[:30,2], width, label='Z' )\n",
    "\n",
    "ax.grid(axis='y')\n",
    "ax.legend()\n",
    "ax.set_xticks(np.arange(0,30,2))\n",
    "plt.xlabel(r'$\\omega$')\n",
    "plt.ylabel(r'$var(\\Omega_V)$')\n",
    "\n",
    "plt.tight_layout()\n",
    "\n",
    "plt.show()"
   ]
  },
  {
   "cell_type": "code",
   "execution_count": null,
   "metadata": {},
   "outputs": [],
   "source": []
  }
 ],
 "metadata": {
  "kernelspec": {
   "display_name": "Python 3 (ipykernel)",
   "language": "python",
   "name": "python3"
  },
  "language_info": {
   "codemirror_mode": {
    "name": "ipython",
    "version": 3
   },
   "file_extension": ".py",
   "mimetype": "text/x-python",
   "name": "python",
   "nbconvert_exporter": "python",
   "pygments_lexer": "ipython3",
   "version": "3.10.9"
  }
 },
 "nbformat": 4,
 "nbformat_minor": 4
}
