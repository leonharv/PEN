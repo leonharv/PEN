{
 "cells": [
  {
   "attachments": {},
   "cell_type": "markdown",
   "metadata": {},
   "source": [
    "# PEN: Process Estimator neural Network for root cause analysis using graph convolution"
   ]
  },
  {
   "cell_type": "code",
   "execution_count": null,
   "metadata": {},
   "outputs": [],
   "source": [
    "import tensorflow as tf\n",
    "import numpy as np\n",
    "import pandas as pd\n",
    "import matplotlib.pyplot as plt\n",
    "from scipy import sparse\n",
    "import gcChebyshev\n",
    "\n",
    "import ipywidgets"
   ]
  },
  {
   "attachments": {},
   "cell_type": "markdown",
   "metadata": {},
   "source": [
    "## Loading\n",
    "We need to load all deviation fields, the values of the vertices, in a single variable."
   ]
  },
  {
   "cell_type": "code",
   "execution_count": null,
   "metadata": {},
   "outputs": [],
   "source": [
    "loadPath = '../Variationsanalyse/data/sto_2/run__0{:04d}/m_1/assembly_6.csv'\n",
    "numberOfTests = 793\n",
    "n = 188559\n",
    "df = np.zeros((numberOfTests, n, 3), dtype=np.float32)\n",
    "for testId in range(0, numberOfTests):\n",
    "    df_temp = pd.read_csv(loadPath.format(testId+1), sep=' ', header=0, dtype=np.float32)\n",
    "    df[testId,:] = np.reshape(df_temp.values, (-1,3))\n",
    "    \n",
    "print(df.shape)"
   ]
  },
  {
   "attachments": {},
   "cell_type": "markdown",
   "metadata": {},
   "source": [
    "In addition, we need the adjacency matrix."
   ]
  },
  {
   "cell_type": "code",
   "execution_count": null,
   "metadata": {},
   "outputs": [],
   "source": [
    "A_sparse = sparse.load_npz('../Variationsanalyse/data/sto_2/adjacencyList.npz')\n"
   ]
  },
  {
   "cell_type": "markdown",
   "metadata": {},
   "source": [
    "## Load the labels"
   ]
  },
  {
   "cell_type": "code",
   "execution_count": null,
   "metadata": {},
   "outputs": [],
   "source": [
    "labels = np.loadtxt('../Variationsanalyse/data/sto_2/run_matrix_Stoch2_updated_ESP.csv', delimiter=',', dtype=np.float32)\n",
    "\n",
    "print(labels.shape)"
   ]
  },
  {
   "attachments": {},
   "cell_type": "markdown",
   "metadata": {},
   "source": [
    "# Model definition"
   ]
  },
  {
   "cell_type": "code",
   "execution_count": null,
   "metadata": {},
   "outputs": [],
   "source": [
    "model = tf.keras.models.Sequential()\n",
    "\n",
    "num_filters = 25\n",
    "filter_size = 15\n",
    "max_frequency = 30\n",
    "smoothing_cut = max_frequency * 0.9\n",
    "smoothing_width = max_frequency * 0.1\n",
    "\n",
    "dense1 = 2048\n",
    "dense1_activation = 'relu'\n",
    "dense1_bias = False\n",
    "\n",
    "dense2 = 6\n",
    "dense2_activation = None\n",
    "dense2_bias = True\n",
    "\n",
    "model.add(gcChebyshev.gcChebyshev(A=A_sparse, num_filters=num_filters, filter_size=filter_size, smoothing_cut=smoothing_cut, smoothing_width=smoothing_width, max_frequency=max_frequency, input_shape=(df.shape[1], df.shape[2])))\n",
    "model.add(tf.keras.layers.Flatten())\n",
    "model.add(tf.keras.layers.Dense(dense1, activation=dense1_activation, use_bias=dense1_bias))\n",
    "model.add(tf.keras.layers.Dense(dense2, activation=dense2_activation, use_bias=dense2_bias))\n",
    "\n",
    "model.summary()"
   ]
  },
  {
   "attachments": {},
   "cell_type": "markdown",
   "metadata": {},
   "source": [
    "# Training"
   ]
  },
  {
   "cell_type": "code",
   "execution_count": null,
   "metadata": {},
   "outputs": [],
   "source": [
    "batchSize = 12\n",
    "    \n",
    "optimizer = tf.optimizers.Adagrad(\n",
    "    learning_rate=0.05\n",
    ")"
   ]
  },
  {
   "cell_type": "code",
   "execution_count": null,
   "metadata": {},
   "outputs": [],
   "source": [
    "loss = 'mae'\n",
    "epochs = 300\n",
    "\n",
    "model.compile(optimizer=optimizer, loss=loss, metrics=['accuracy'])\n",
    "hist = model.fit(df, labels, batch_size=batchSize, epochs=epochs, verbose=1)"
   ]
  },
  {
   "cell_type": "code",
   "execution_count": null,
   "metadata": {},
   "outputs": [],
   "source": [
    "plt.figure(figsize=(18,6))\n",
    "plt.subplot(2,1,1)\n",
    "plt.plot(hist.history['loss'][2:], label='train')\n",
    "plt.yscale('log')\n",
    "#plt.plot(hist.history['val_loss'][2:], label='test')\n",
    "plt.legend()\n",
    "plt.subplot(2,1,2)\n",
    "plt.plot(hist.history['accuracy'], label='train')\n",
    "#plt.plot(hist.history['val_accuracy'], label='test')\n",
    "plt.legend()\n",
    "plt.show()"
   ]
  },
  {
   "attachments": {},
   "cell_type": "markdown",
   "metadata": {},
   "source": [
    "# Inspecting the results"
   ]
  },
  {
   "cell_type": "code",
   "execution_count": null,
   "metadata": {},
   "outputs": [],
   "source": [
    "@ipywidgets.interact_manual(idx=(0,len(labels), 1))\n",
    "def showReconstructed(idx=0):\n",
    "    reconstructed = model(df[idx:idx+1])[0,:]\n",
    "    \n",
    "    print(np.abs(labels[idx] - reconstructed))\n",
    "    \n",
    "    f = plt.figure(figsize=(18,5))\n",
    "    \n",
    "    plt.plot(labels[idx], 'k', label='input')\n",
    "    plt.plot(reconstructed, 'b', label='reconstructed')\n",
    "    plt.plot(np.abs(labels[idx] - reconstructed), 'r', label='error')\n",
    "    plt.legend()\n",
    "    plt.xticks(range(6),labels=['ESP_L', 'ESP_R', 'SB_L', 'SN_X', 'SN_Y', 'SB_R'])\n",
    "    \n",
    "    plt.show()"
   ]
  },
  {
   "attachments": {},
   "cell_type": "markdown",
   "metadata": {},
   "source": [
    "# Store the model"
   ]
  },
  {
   "cell_type": "code",
   "execution_count": null,
   "metadata": {},
   "outputs": [],
   "source": [
    "model.save('gcChebyshev.h5')"
   ]
  },
  {
   "cell_type": "code",
   "execution_count": null,
   "metadata": {},
   "outputs": [],
   "source": []
  }
 ],
 "metadata": {
  "kernelspec": {
   "display_name": "ai",
   "language": "python",
   "name": "python3"
  },
  "language_info": {
   "codemirror_mode": {
    "name": "ipython",
    "version": 3
   },
   "file_extension": ".py",
   "mimetype": "text/x-python",
   "name": "python",
   "nbconvert_exporter": "python",
   "pygments_lexer": "ipython3",
   "version": "3.10.9"
  }
 },
 "nbformat": 4,
 "nbformat_minor": 4
}
