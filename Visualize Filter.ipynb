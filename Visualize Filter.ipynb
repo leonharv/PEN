{
 "cells": [
  {
   "cell_type": "code",
   "execution_count": null,
   "metadata": {},
   "outputs": [],
   "source": [
    "import vtk\n",
    "from vtk.util.numpy_support import numpy_to_vtk\n",
    "import numpy as np\n",
    "import tensorflow as tf\n",
    "import gcChebyshev\n",
    "import IPython.display as display\n",
    "import notebookrender\n",
    "import ipywidgets"
   ]
  },
  {
   "attachments": {},
   "cell_type": "markdown",
   "metadata": {},
   "source": [
    "## Load geometry"
   ]
  },
  {
   "cell_type": "code",
   "execution_count": null,
   "metadata": {},
   "outputs": [],
   "source": [
    "filePath = '../Variationsanalyse/data/sto_2/run__{:05d}/m_1/vtk_Export/Assembly/Assembly_6.vtu'\n",
    "reader = vtk.vtkXMLUnstructuredGridReader()\n",
    "reader.SetFileName(filePath.format(1))\n",
    "reader.Update()\n",
    "data = reader.GetOutput()"
   ]
  },
  {
   "attachments": {},
   "cell_type": "markdown",
   "metadata": {},
   "source": [
    "## Load the Fourier basis"
   ]
  },
  {
   "cell_type": "code",
   "execution_count": null,
   "metadata": {},
   "outputs": [],
   "source": [
    "U = np.loadtxt('U-30.csv')\n",
    "print(U.shape)"
   ]
  },
  {
   "attachments": {},
   "cell_type": "markdown",
   "metadata": {},
   "source": [
    "## Load model"
   ]
  },
  {
   "cell_type": "code",
   "execution_count": null,
   "metadata": {},
   "outputs": [],
   "source": [
    "new_model = tf.keras.models.load_model('gcChebyshev.h5', custom_objects={'gcChebyshev': gcChebyshev.gcChebyshev})\n",
    "new_model.summary()"
   ]
  },
  {
   "attachments": {},
   "cell_type": "markdown",
   "metadata": {},
   "source": [
    "## Convert filters to spatial domain\n",
    "The filters are stored in the PEN as coefficients for the Chebyshev polynomials. Converting them back to the spatial domain to display them on the geometry, we need to do some steps. Let $\\theta_k$ be the coefficients for the Chebyshev polynomials and $T_k$ be a matrix containing the Chebyshev polynomials. We can now obtain a filter $f$ in its spatial representation using the Fourier basis as follows:\n",
    "\\begin{align}\n",
    "    f_\\theta &= U g_\\theta(\\Lambda) \\\\\n",
    "    g_\\theta(\\Lambda) &= \\sum\\limits_{k=0}^{K-1} T_k(\\Lambda) \\theta_k\n",
    "\\end{align}"
   ]
  },
  {
   "cell_type": "code",
   "execution_count": null,
   "metadata": {},
   "outputs": [],
   "source": [
    "gcnn = new_model.get_layer(index=0)\n",
    "T = tf.transpose(gcnn.T)\n",
    "\n",
    "# Equation (2)\n",
    "F = tf.matmul(T, gcnn.Filters_real)\n",
    "\n",
    "print(F.shape)\n",
    "f = []\n",
    "# Equation (1): Since we deal with multi-channel filters and several filters, we have to iterate over those dimensions\n",
    "for k in range(F.shape[0]):\n",
    "    # first channel\n",
    "    f_0 = U @ tf.reshape(F[k,:,0], (-1,1))\n",
    "    f_1 = U @ tf.reshape(F[k,:,1], (-1,1))\n",
    "    f_2 = U @ tf.reshape(F[k,:,2], (-1,1))\n",
    "\n",
    "    f.append(tf.transpose([f_0[:,0], f_1[:,0], f_2[:,0]]))\n",
    "\n",
    "print(np.shape(f))"
   ]
  },
  {
   "attachments": {},
   "cell_type": "markdown",
   "metadata": {},
   "source": [
    "# Visualize Filter"
   ]
  },
  {
   "cell_type": "code",
   "execution_count": null,
   "metadata": {},
   "outputs": [],
   "source": [
    "display.display(ipywidgets.HBox([\n",
    "    ipywidgets.HTML('<h5 style=\"text-align:center; width:300px;\">X</h5>'),\n",
    "    ipywidgets.HTML('<h5 style=\"text-align:center; width:300px;\">Y</h5>'),\n",
    "    ipywidgets.HTML('<h5 style=\"text-align:center; width:300px;\">Z</h5>')\n",
    "]))\n",
    "\n",
    "for i in range(len(f)):\n",
    "    scalarRange = [\n",
    "        tf.math.reduce_min(f[i]),\n",
    "        tf.math.reduce_max(f[i])\n",
    "    ]\n",
    "    \n",
    "    U_res = numpy_to_vtk(f[i][:,0])\n",
    "    U_res.SetName('U_res')\n",
    "    data.GetPointData().AddArray(U_res)\n",
    "    res1 = notebookrender.rendering(\n",
    "        data, \n",
    "        width=500, \n",
    "        height=600, \n",
    "        pos=[-50.0, 0.0, 4500.0], \n",
    "        foc=[-50.0, 0.0, 1000.0], \n",
    "        zoom=1.3, \n",
    "        scalarRange=scalarRange, \n",
    "        showColorBar=False,\n",
    "    )\n",
    "    data.GetPointData().RemoveArray('U_res')\n",
    "\n",
    "    U_res = numpy_to_vtk(f[i][:,1])\n",
    "    U_res.SetName('U_res')\n",
    "    data.GetPointData().AddArray(U_res)\n",
    "    res2 = notebookrender.rendering(\n",
    "        data, \n",
    "        width=500, \n",
    "        height=600, \n",
    "        pos=[-50.0, 0.0, 4500.0], \n",
    "        foc=[-50.0, 0.0, 1000.0], \n",
    "        zoom=1.3, \n",
    "        scalarRange=scalarRange, \n",
    "        showColorBar=False,\n",
    "    )\n",
    "    data.GetPointData().RemoveArray('U_res')\n",
    "    \n",
    "    U_res = numpy_to_vtk(f[i][:,2])\n",
    "    U_res.SetName('U_res')\n",
    "    data.GetPointData().AddArray(U_res)\n",
    "    res3 = notebookrender.rendering(\n",
    "        data, \n",
    "        width=800, \n",
    "        height=600, \n",
    "        pos=[200.0, 0.0, 4500.0], \n",
    "        foc=[200.0, 0.0, 1000.0], \n",
    "        zoom=1.3, \n",
    "        scalarRange=scalarRange, \n",
    "        colorBarCoordinate=(0.7,0.1)\n",
    "    )\n",
    "    data.GetPointData().RemoveArray('U_res')\n",
    "\n",
    "    display.display(ipywidgets.HBox([\n",
    "            res1,\n",
    "            res2,\n",
    "            res3\n",
    "    ], layout=ipywidgets.Layout(height='300px')))"
   ]
  },
  {
   "cell_type": "code",
   "execution_count": null,
   "metadata": {},
   "outputs": [],
   "source": []
  }
 ],
 "metadata": {
  "kernelspec": {
   "display_name": "ai",
   "language": "python",
   "name": "python3"
  },
  "language_info": {
   "codemirror_mode": {
    "name": "ipython",
    "version": 3
   },
   "file_extension": ".py",
   "mimetype": "text/x-python",
   "name": "python",
   "nbconvert_exporter": "python",
   "pygments_lexer": "ipython3",
   "version": "3.10.9"
  }
 },
 "nbformat": 4,
 "nbformat_minor": 2
}
