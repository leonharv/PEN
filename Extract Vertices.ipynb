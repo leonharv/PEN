{
 "cells": [
  {
   "cell_type": "code",
   "execution_count": null,
   "metadata": {},
   "outputs": [],
   "source": [
    "import vtk\n",
    "from vtk.util.numpy_support import vtk_to_numpy\n",
    "import numpy as np"
   ]
  },
  {
   "cell_type": "code",
   "execution_count": null,
   "metadata": {},
   "outputs": [],
   "source": [
    "numberOfTests = 793\n",
    "basePath = '../Variationsanalyse/data/sto_2/run__0{:04d}/m_1/vtk_Export/Assembly/Assembly_6.vtu'\n",
    "safePath = '../Variationsanalyse/data/sto_2/run__0{:04d}/m_1/Assembly_6.npy'"
   ]
  },
  {
   "cell_type": "code",
   "execution_count": null,
   "metadata": {},
   "outputs": [],
   "source": [
    "print('start')\n",
    "labels = np.zeros((numberOfTests,6))\n",
    "reader = vtk.vtkXMLUnstructuredGridReader()\n",
    "for testId in range(1, numberOfTests):\n",
    "    if testId % 10 == 0:\n",
    "        print(testId/numberOfTests*100, '%')\n",
    "    reader.SetFileName(basePath.format(testId))\n",
    "    reader.Update()\n",
    "    assembly = reader.GetOutput()\n",
    "    \n",
    "    vectorField_vtk = assembly.GetPointData().GetArray(0)\n",
    "    \n",
    "    vectorField = vtk_to_numpy(vectorField_vtk)\n",
    "    \n",
    "    np.save(safePath.format(testId), vectorField)\n",
    "    \n",
    "print('done')"
   ]
  },
  {
   "cell_type": "code",
   "execution_count": null,
   "metadata": {},
   "outputs": [],
   "source": []
  }
 ],
 "metadata": {
  "kernelspec": {
   "display_name": "ai",
   "language": "python",
   "name": "python3"
  },
  "language_info": {
   "codemirror_mode": {
    "name": "ipython",
    "version": 3
   },
   "file_extension": ".py",
   "mimetype": "text/x-python",
   "name": "python",
   "nbconvert_exporter": "python",
   "pygments_lexer": "ipython3",
   "version": "3.10.9"
  }
 },
 "nbformat": 4,
 "nbformat_minor": 2
}
