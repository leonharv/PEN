{
 "cells": [
  {
   "attachments": {},
   "cell_type": "markdown",
   "metadata": {},
   "source": [
    "# Fourier basis\n",
    "The Fourier basis $U$ of a bidirectional graph $G = (V, A)$ can be computed using the Eigenvalue decomposition the Laplace matrix $L$. Let $A$ be the adjacency matrix of the graph $G$, then the Fourier basis is as follows:\n",
    "\\begin{align}\n",
    "    D_{i,i} &= \\sum\\limits_{j=0}^{N-1} A_i,j, \\\\\n",
    "    L &= I - D^{-\\frac{1}{2}} A D^{-\\frac{1}{2}}, \\\\\n",
    "    L &= U \\Lambda U^T,\n",
    "\\end{align}\n",
    "while $D$ is a diagonal matrix, which entries represent the number of connections of each vertex $V$ to its neighbors and $I$ is the identity matrix of the same size as the adjacency matrix $A$."
   ]
  },
  {
   "cell_type": "code",
   "execution_count": null,
   "metadata": {},
   "outputs": [],
   "source": [
    "from scipy import sparse\n",
    "import numpy as np\n",
    "from matplotlib import pyplot as plt"
   ]
  },
  {
   "attachments": {},
   "cell_type": "markdown",
   "metadata": {},
   "source": [
    "## Loading"
   ]
  },
  {
   "cell_type": "code",
   "execution_count": null,
   "metadata": {},
   "outputs": [],
   "source": [
    "A_sparse = sparse.load_npz('../Variationsanalyse/data/sto_2/adjacencyList.npz')\n"
   ]
  },
  {
   "attachments": {},
   "cell_type": "markdown",
   "metadata": {},
   "source": [
    "## Laplace matrix"
   ]
  },
  {
   "cell_type": "code",
   "execution_count": null,
   "metadata": {},
   "outputs": [],
   "source": [
    "# Equation (1)\n",
    "d = A_sparse.sum(axis=0)\n",
    "\n",
    "# Equation (2)\n",
    "d = 1 / np.sqrt(d)\n",
    "D = sparse.diags(d.A.squeeze(), 0, format='csc')\n",
    "L = sparse.eye(A_sparse.shape[0]) - D.dot(A_sparse).dot(D)"
   ]
  },
  {
   "attachments": {},
   "cell_type": "markdown",
   "metadata": {},
   "source": [
    "## Fourier basis"
   ]
  },
  {
   "cell_type": "code",
   "execution_count": null,
   "metadata": {},
   "outputs": [],
   "source": [
    "max_frequency = 30\n",
    "\n",
    "# Equation (3)\n",
    "lamb, U = sparse.linalg.eigsh(\n",
    "    L, \n",
    "    k=max_frequency,\n",
    "    sigma=0,\n",
    "    v0=np.ones((L.shape[0],)) * 0.00230709,\n",
    "    which='LM',\n",
    "    ncv=300\n",
    ")\n",
    "\n",
    "plt.figure(figsize=(18,3))\n",
    "plt.title('Eigenvalues')\n",
    "plt.plot(np.real(lamb), label='real')\n",
    "plt.plot(np.imag(lamb), label='imag')\n",
    "plt.grid()\n",
    "plt.legend()\n",
    "plt.show()\n",
    "\n",
    "plt.figure(figsize=(18,6))\n",
    "plt.subplot(1,2,1)\n",
    "plt.title('real component of the Fourier basis')\n",
    "plt.imshow(np.real(U), aspect='auto')\n",
    "plt.subplot(1,2,2)\n",
    "plt.title('The second Fourier basis')\n",
    "plt.plot(np.real(U[:,1]))\n",
    "plt.show()"
   ]
  },
  {
   "attachments": {},
   "cell_type": "markdown",
   "metadata": {},
   "source": [
    "## Storing"
   ]
  },
  {
   "cell_type": "code",
   "execution_count": null,
   "metadata": {},
   "outputs": [],
   "source": [
    "np.savetxt('U-{:d}.csv'.format(max_frequency), U)"
   ]
  },
  {
   "cell_type": "code",
   "execution_count": null,
   "metadata": {},
   "outputs": [],
   "source": []
  }
 ],
 "metadata": {
  "kernelspec": {
   "display_name": "ai",
   "language": "python",
   "name": "python3"
  },
  "language_info": {
   "codemirror_mode": {
    "name": "ipython",
    "version": 3
   },
   "file_extension": ".py",
   "mimetype": "text/x-python",
   "name": "python",
   "nbconvert_exporter": "python",
   "pygments_lexer": "ipython3",
   "version": "3.10.9"
  }
 },
 "nbformat": 4,
 "nbformat_minor": 4
}
